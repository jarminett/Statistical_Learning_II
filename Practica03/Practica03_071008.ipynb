{
  "nbformat": 4,
  "nbformat_minor": 0,
  "metadata": {
    "colab": {
      "name": "Practica03_071008.ipynb",
      "provenance": [],
      "collapsed_sections": [],
      "toc_visible": true,
      "authorship_tag": "ABX9TyOjpNW7wC+RJYjanPVvw23A",
      "include_colab_link": true
    },
    "kernelspec": {
      "name": "python3",
      "display_name": "Python 3"
    },
    "language_info": {
      "name": "python"
    }
  },
  "cells": [
    {
      "cell_type": "markdown",
      "metadata": {
        "id": "view-in-github",
        "colab_type": "text"
      },
      "source": [
        "<a href=\"https://colab.research.google.com/github/jarminett/Statistical_Learning_II/blob/main/Practica03/Practica03_071008.ipynb\" target=\"_parent\"><img src=\"https://colab.research.google.com/assets/colab-badge.svg\" alt=\"Open In Colab\"/></a>"
      ]
    },
    {
      "cell_type": "markdown",
      "metadata": {
        "id": "wWU5Cnq4HFHP"
      },
      "source": [
        "**UNIVERSIDAD GALILEO** \\\\\n",
        "Instituto de Investigación de Operaciones \\\\\n",
        "Posgrado en Análisis y Predicción de Datos \\\\\n",
        "Luis Florian, 0710082, sección U \\\\\n",
        "\n",
        "**Practica 3**\n",
        "\n",
        "Maldición de dimensionalidad:\n",
        "* Usando el dataset de precios de casas\n",
        "* Usar PolynomialFeatures de sklearn para calcular features polinómicas y analizar la dimensionalidad resultante al usar polinomios de grado 1(no transformación),2,3 para 1,2,3 variables de entrada(cualquiera)\n",
        "* No se necesita entrenar ningún modelo, solo analizar el comportamiento del número de dimensiones(por ejemplo usando plots comparativos)\n"
      ]
    },
    {
      "cell_type": "markdown",
      "metadata": {
        "id": "9YQx2L60Hy8c"
      },
      "source": [
        "### **Importing Libraries**"
      ]
    },
    {
      "cell_type": "code",
      "metadata": {
        "id": "MCp4IF_lH2md"
      },
      "source": [
        "import numpy as np\n",
        "import pandas as pd\n",
        "import matplotlib.pyplot as plt\n",
        "from sklearn.preprocessing import PolynomialFeatures\n",
        "from matplotlib import pyplot\n"
      ],
      "execution_count": 36,
      "outputs": []
    },
    {
      "cell_type": "markdown",
      "metadata": {
        "id": "re8VGJYVImHD"
      },
      "source": [
        "### **Loading Data**"
      ]
    },
    {
      "cell_type": "code",
      "metadata": {
        "colab": {
          "base_uri": "https://localhost:8080/"
        },
        "id": "eFUt76ICIpPH",
        "outputId": "0ada6547-d5aa-4c59-bfbe-18531337da61"
      },
      "source": [
        "from google.colab import drive\n",
        "drive.mount('/content/drive/')"
      ],
      "execution_count": 2,
      "outputs": [
        {
          "output_type": "stream",
          "name": "stdout",
          "text": [
            "Mounted at /content/drive/\n"
          ]
        }
      ]
    },
    {
      "cell_type": "code",
      "metadata": {
        "id": "zO54cG5zOVQH"
      },
      "source": [
        "data = np.load(\"/content/drive/MyDrive/MyNotebooks/Data Science Msc/Statistical Learning II/Lab03/dataset.npy\")\n",
        "df = pd.DataFrame(data,columns=['SalePrice','OverallQual','firstFlrSF','TotRmsAbvGrd','YearBuilt','LotFrontage'])\n",
        "columns=['SalePrice','OverallQual','firstFlrSF','TotRmsAbvGrd','YearBuilt','LotFrontage']"
      ],
      "execution_count": 10,
      "outputs": []
    },
    {
      "cell_type": "markdown",
      "metadata": {
        "id": "GBAS0LO3QMhF"
      },
      "source": [
        "### **Exploring Data**"
      ]
    },
    {
      "cell_type": "code",
      "metadata": {
        "colab": {
          "base_uri": "https://localhost:8080/"
        },
        "id": "yJY_9IJfQQDt",
        "outputId": "c95b1723-ad17-46b0-b6e4-7d2d22966ba4"
      },
      "source": [
        "df.isna().sum()"
      ],
      "execution_count": 11,
      "outputs": [
        {
          "output_type": "execute_result",
          "data": {
            "text/plain": [
              "SalePrice         0\n",
              "OverallQual       0\n",
              "firstFlrSF        0\n",
              "TotRmsAbvGrd      0\n",
              "YearBuilt         0\n",
              "LotFrontage     259\n",
              "dtype: int64"
            ]
          },
          "metadata": {},
          "execution_count": 11
        }
      ]
    },
    {
      "cell_type": "markdown",
      "metadata": {
        "id": "8cJjyOzdQXhf"
      },
      "source": [
        "### **Imputation**"
      ]
    },
    {
      "cell_type": "code",
      "metadata": {
        "colab": {
          "base_uri": "https://localhost:8080/"
        },
        "id": "7d8B95ECQkQ7",
        "outputId": "b6f1dd2e-b857-48a3-8194-7711407bd3fc"
      },
      "source": [
        "df['LotFrontage'].fillna((df['LotFrontage'].mean()), inplace=True)\n",
        "df.isna().sum()"
      ],
      "execution_count": 12,
      "outputs": [
        {
          "output_type": "execute_result",
          "data": {
            "text/plain": [
              "SalePrice       0\n",
              "OverallQual     0\n",
              "firstFlrSF      0\n",
              "TotRmsAbvGrd    0\n",
              "YearBuilt       0\n",
              "LotFrontage     0\n",
              "dtype: int64"
            ]
          },
          "metadata": {},
          "execution_count": 12
        }
      ]
    },
    {
      "cell_type": "code",
      "metadata": {
        "colab": {
          "base_uri": "https://localhost:8080/",
          "height": 424
        },
        "id": "gIXaENu5RZdf",
        "outputId": "1ba14042-3b23-4bc8-819c-9f8026aba3c5"
      },
      "source": [
        "df"
      ],
      "execution_count": 34,
      "outputs": [
        {
          "output_type": "execute_result",
          "data": {
            "text/html": [
              "<div>\n",
              "<style scoped>\n",
              "    .dataframe tbody tr th:only-of-type {\n",
              "        vertical-align: middle;\n",
              "    }\n",
              "\n",
              "    .dataframe tbody tr th {\n",
              "        vertical-align: top;\n",
              "    }\n",
              "\n",
              "    .dataframe thead th {\n",
              "        text-align: right;\n",
              "    }\n",
              "</style>\n",
              "<table border=\"1\" class=\"dataframe\">\n",
              "  <thead>\n",
              "    <tr style=\"text-align: right;\">\n",
              "      <th></th>\n",
              "      <th>SalePrice</th>\n",
              "      <th>OverallQual</th>\n",
              "      <th>firstFlrSF</th>\n",
              "      <th>TotRmsAbvGrd</th>\n",
              "      <th>YearBuilt</th>\n",
              "      <th>LotFrontage</th>\n",
              "    </tr>\n",
              "  </thead>\n",
              "  <tbody>\n",
              "    <tr>\n",
              "      <th>0</th>\n",
              "      <td>208500.0</td>\n",
              "      <td>7.0</td>\n",
              "      <td>856.0</td>\n",
              "      <td>8.0</td>\n",
              "      <td>2003.0</td>\n",
              "      <td>65.0</td>\n",
              "    </tr>\n",
              "    <tr>\n",
              "      <th>1</th>\n",
              "      <td>181500.0</td>\n",
              "      <td>6.0</td>\n",
              "      <td>1262.0</td>\n",
              "      <td>6.0</td>\n",
              "      <td>1976.0</td>\n",
              "      <td>80.0</td>\n",
              "    </tr>\n",
              "    <tr>\n",
              "      <th>2</th>\n",
              "      <td>223500.0</td>\n",
              "      <td>7.0</td>\n",
              "      <td>920.0</td>\n",
              "      <td>6.0</td>\n",
              "      <td>2001.0</td>\n",
              "      <td>68.0</td>\n",
              "    </tr>\n",
              "    <tr>\n",
              "      <th>3</th>\n",
              "      <td>140000.0</td>\n",
              "      <td>7.0</td>\n",
              "      <td>961.0</td>\n",
              "      <td>7.0</td>\n",
              "      <td>1915.0</td>\n",
              "      <td>60.0</td>\n",
              "    </tr>\n",
              "    <tr>\n",
              "      <th>4</th>\n",
              "      <td>250000.0</td>\n",
              "      <td>8.0</td>\n",
              "      <td>1145.0</td>\n",
              "      <td>9.0</td>\n",
              "      <td>2000.0</td>\n",
              "      <td>84.0</td>\n",
              "    </tr>\n",
              "    <tr>\n",
              "      <th>...</th>\n",
              "      <td>...</td>\n",
              "      <td>...</td>\n",
              "      <td>...</td>\n",
              "      <td>...</td>\n",
              "      <td>...</td>\n",
              "      <td>...</td>\n",
              "    </tr>\n",
              "    <tr>\n",
              "      <th>1455</th>\n",
              "      <td>175000.0</td>\n",
              "      <td>6.0</td>\n",
              "      <td>953.0</td>\n",
              "      <td>7.0</td>\n",
              "      <td>1999.0</td>\n",
              "      <td>62.0</td>\n",
              "    </tr>\n",
              "    <tr>\n",
              "      <th>1456</th>\n",
              "      <td>210000.0</td>\n",
              "      <td>6.0</td>\n",
              "      <td>2073.0</td>\n",
              "      <td>7.0</td>\n",
              "      <td>1978.0</td>\n",
              "      <td>85.0</td>\n",
              "    </tr>\n",
              "    <tr>\n",
              "      <th>1457</th>\n",
              "      <td>266500.0</td>\n",
              "      <td>7.0</td>\n",
              "      <td>1188.0</td>\n",
              "      <td>9.0</td>\n",
              "      <td>1941.0</td>\n",
              "      <td>66.0</td>\n",
              "    </tr>\n",
              "    <tr>\n",
              "      <th>1458</th>\n",
              "      <td>142125.0</td>\n",
              "      <td>5.0</td>\n",
              "      <td>1078.0</td>\n",
              "      <td>5.0</td>\n",
              "      <td>1950.0</td>\n",
              "      <td>68.0</td>\n",
              "    </tr>\n",
              "    <tr>\n",
              "      <th>1459</th>\n",
              "      <td>147500.0</td>\n",
              "      <td>5.0</td>\n",
              "      <td>1256.0</td>\n",
              "      <td>6.0</td>\n",
              "      <td>1965.0</td>\n",
              "      <td>75.0</td>\n",
              "    </tr>\n",
              "  </tbody>\n",
              "</table>\n",
              "<p>1460 rows × 6 columns</p>\n",
              "</div>"
            ],
            "text/plain": [
              "      SalePrice  OverallQual  firstFlrSF  TotRmsAbvGrd  YearBuilt  LotFrontage\n",
              "0      208500.0          7.0       856.0           8.0     2003.0         65.0\n",
              "1      181500.0          6.0      1262.0           6.0     1976.0         80.0\n",
              "2      223500.0          7.0       920.0           6.0     2001.0         68.0\n",
              "3      140000.0          7.0       961.0           7.0     1915.0         60.0\n",
              "4      250000.0          8.0      1145.0           9.0     2000.0         84.0\n",
              "...         ...          ...         ...           ...        ...          ...\n",
              "1455   175000.0          6.0       953.0           7.0     1999.0         62.0\n",
              "1456   210000.0          6.0      2073.0           7.0     1978.0         85.0\n",
              "1457   266500.0          7.0      1188.0           9.0     1941.0         66.0\n",
              "1458   142125.0          5.0      1078.0           5.0     1950.0         68.0\n",
              "1459   147500.0          5.0      1256.0           6.0     1965.0         75.0\n",
              "\n",
              "[1460 rows x 6 columns]"
            ]
          },
          "metadata": {},
          "execution_count": 34
        }
      ]
    },
    {
      "cell_type": "markdown",
      "metadata": {
        "id": "yB5C0cRLRFrL"
      },
      "source": [
        "### **Polinomios**\n",
        "\n",
        "Por razones de investigación y propia curiosidad, en lugar de utilizar grados de polinomio de 1 a 3 como indica el ejercicio, se harán de 1 a 10."
      ]
    },
    {
      "cell_type": "code",
      "metadata": {
        "colab": {
          "base_uri": "https://localhost:8080/",
          "height": 505
        },
        "id": "ghzx43CNRJJw",
        "outputId": "d663a3fd-569d-4f69-90dd-3e1015a5d4f0"
      },
      "source": [
        "font = {'family': 'DejaVu Sans',\n",
        "        'color':  'black',\n",
        "        'weight': 'bold',\n",
        "        'size': 15,\n",
        "        }\n",
        "\n",
        "num_features = list()\n",
        "degress = [i for i in range(1, 11)]\n",
        "for d in degress:\n",
        "    # create transform\n",
        "    trans = PolynomialFeatures(degree=d)\n",
        "    # fit and transform\n",
        "    data = trans.fit_transform(df)\n",
        "    # record number of features\n",
        "    num_features.append(data.shape[1])\n",
        "    # summarize\n",
        "    print('Grado de Polinomio: %d, Features: %d' % (d, data.shape[1]))\n",
        "# plot degree vs number of features\n",
        "print(\"\\n\")\n",
        "pyplot.plot(degress, num_features)\n",
        "pyplot.xlabel(\"Grado de Polinomio\")\n",
        "pyplot.ylabel(\"Features\")\n",
        "pyplot.title(\"Features por Grado Polinomial\",fontdict=font)\n",
        "\n",
        "pyplot.show()"
      ],
      "execution_count": 43,
      "outputs": [
        {
          "output_type": "stream",
          "name": "stdout",
          "text": [
            "Grado de Polinomio: 1, Features: 7\n",
            "Grado de Polinomio: 2, Features: 28\n",
            "Grado de Polinomio: 3, Features: 84\n",
            "Grado de Polinomio: 4, Features: 210\n",
            "Grado de Polinomio: 5, Features: 462\n",
            "Grado de Polinomio: 6, Features: 924\n",
            "Grado de Polinomio: 7, Features: 1716\n",
            "Grado de Polinomio: 8, Features: 3003\n",
            "Grado de Polinomio: 9, Features: 5005\n",
            "Grado de Polinomio: 10, Features: 8008\n",
            "\n",
            "\n"
          ]
        },
        {
          "output_type": "display_data",
          "data": {
            "image/png": "[encoded data removed]",
            "text/plain": [
              "<Figure size 432x288 with 1 Axes>"
            ]
          },
          "metadata": {
            "needs_background": "light"
          }
        }
      ]
    },
    {
      "cell_type": "markdown",
      "metadata": {
        "id": "YinnBM64atE4"
      },
      "source": [
        ""
      ]
    },
    {
      "cell_type": "markdown",
      "metadata": {
        "id": "bCqCLcnsa1E0"
      },
      "source": [
        "### **Conclusiones**\n",
        "\n",
        "* Tal como vimos en clase, la maldición de la dimensionalidad nos impone que mientras más dimensiones tenemos, más completo es el problema.  El crecimiento tal como se observa en la gráfica es exponencial. Esto es porque al contemplar más dimensiones, más features tenemos.\n",
        "\n",
        "* Tal como se indica en la parte de Polinomios, se experimentó hasta el grado 10 en lugar de 3 como el ejercicio lo indica.  El resultado es esta gráfica en donde se puede observar que la relación entre dimensión y crecimiento de features es exponencial.\n"
      ]
    }
  ]
}