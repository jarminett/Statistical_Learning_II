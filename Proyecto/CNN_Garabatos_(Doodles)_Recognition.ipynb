{
  "nbformat": 4,
  "nbformat_minor": 0,
  "metadata": {
    "colab": {
      "name": "CNN Garabatos (Doodles) Recognition.ipynb",
      "provenance": [],
      "collapsed_sections": [],
      "include_colab_link": true
    },
    "kernelspec": {
      "name": "python3",
      "display_name": "Python 3"
    },
    "accelerator": "GPU"
  },
  "cells": [
    {
      "cell_type": "markdown",
      "metadata": {
        "id": "view-in-github",
        "colab_type": "text"
      },
      "source": [
        "<a href=\"https://colab.research.google.com/github/jarminett/Statistical_Learning_II/blob/main/Proyecto/CNN_Garabatos_(Doodles)_Recognition.ipynb\" target=\"_parent\"><img src=\"https://colab.research.google.com/assets/colab-badge.svg\" alt=\"Open In Colab\"/></a>"
      ]
    },
    {
      "cell_type": "markdown",
      "metadata": {
        "id": "quj3dZZfCxmJ"
      },
      "source": [
        "**Universidad Galileo** \\\\\n",
        "Luis Florian, 0710082 \\\\\n",
        "Statistical Learning II"
      ]
    },
    {
      "cell_type": "markdown",
      "metadata": {
        "id": "R7uflgzW-YTB"
      },
      "source": [
        "**Descripción del proyecto**\n",
        "Google lanzó un proyecto llamado QuickDraw que consiste en solicitar a personas del mundo dibujar a mano diferentes objetos.  En este proyecto por medio de una red convolucional haré una clasificación de los dibujos del cuerpo humano.\n"
      ]
    },
    {
      "cell_type": "code",
      "metadata": {
        "id": "G3DWm07O-XXg"
      },
      "source": [
        "import os\n",
        "import glob\n",
        "import numpy as np\n",
        "import tensorflow as tf\n",
        "from tensorflow import keras \n",
        "from keras import utils as np_utils\n",
        "from tensorflow.keras import layers\n",
        "import urllib as urllib\n",
        "import matplotlib.pyplot as plt\n",
        "from random import randint\n",
        "%matplotlib inline \n"
      ],
      "execution_count": 2,
      "outputs": []
    },
    {
      "cell_type": "code",
      "metadata": {
        "id": "x-VktHN-IZNm",
        "colab": {
          "base_uri": "https://localhost:8080/"
        },
        "outputId": "44f9492b-7bc4-4448-f5b2-8f8ec97a4957"
      },
      "source": [
        "#Subí a mi github el listado de los dibujos del cuerpo humano a trabajar.\n",
        "#github user: jarminett\n",
        "!wget https://raw.githubusercontent.com/jarminett/quickdraw_human/master/quickdraw_human_names.txt"
      ],
      "execution_count": 3,
      "outputs": [
        {
          "output_type": "stream",
          "name": "stdout",
          "text": [
            "--2021-09-24 23:27:03--  https://raw.githubusercontent.com/jarminett/quickdraw_human/master/quickdraw_human_names.txt\n",
            "Resolving raw.githubusercontent.com (raw.githubusercontent.com)... 185.199.109.133, 185.199.111.133, 185.199.108.133, ...\n",
            "Connecting to raw.githubusercontent.com (raw.githubusercontent.com)|185.199.109.133|:443... connected.\n",
            "HTTP request sent, awaiting response... 200 OK\n",
            "Length: 293 [text/plain]\n",
            "Saving to: ‘quickdraw_human_names.txt.1’\n",
            "\n",
            "quickdraw_human_nam 100%[===================>]     293  --.-KB/s    in 0s      \n",
            "\n",
            "2021-09-24 23:27:03 (14.2 MB/s) - ‘quickdraw_human_names.txt.1’ saved [293/293]\n",
            "\n"
          ]
        }
      ]
    },
    {
      "cell_type": "code",
      "metadata": {
        "id": "eP-OxOx5sy0b"
      },
      "source": [
        "#Apertura del listado de nombres a utilizar.\n",
        "f = open(\"quickdraw_human_names.txt\",\"r\")\n",
        "# And for reading use\n",
        "classes = f.readlines()\n",
        "f.close()"
      ],
      "execution_count": 4,
      "outputs": []
    },
    {
      "cell_type": "code",
      "metadata": {
        "id": "tcSJSc59JoFu",
        "colab": {
          "base_uri": "https://localhost:8080/"
        },
        "outputId": "903dea07-cf44-4684-8240-f63bd06b9d84"
      },
      "source": [
        "# Eliminar saltos de linea.\n",
        "classes = [c.replace('\\n','') for c in classes]\n",
        "classes"
      ],
      "execution_count": 5,
      "outputs": [
        {
          "output_type": "execute_result",
          "data": {
            "text/plain": [
              "['arm.npy',\n",
              " 'beard.npy',\n",
              " 'belt.npy',\n",
              " 'finger.npy',\n",
              " 'face.npy',\n",
              " 'eyeglasses.npy',\n",
              " 'eye.npy',\n",
              " 'elbow.npy',\n",
              " 'ear.npy',\n",
              " 'foot.npy',\n",
              " 'hat.npy',\n",
              " 'hand.npy',\n",
              " 'knee.npy',\n",
              " 'jacket.npy',\n",
              " 'helmet.npy',\n",
              " 'mouth.npy',\n",
              " 'moustache.npy',\n",
              " 'leg.npy',\n",
              " 'pants.npy',\n",
              " 'nose.npy',\n",
              " 'necklace.npy',\n",
              " 'toe.npy',\n",
              " 't-shirt.npy',\n",
              " 'sweater.npy',\n",
              " 'smiley%20face.npy',\n",
              " 'shorts.npy',\n",
              " 'shoe.npy',\n",
              " 'underwear.npy']"
            ]
          },
          "metadata": {},
          "execution_count": 5
        }
      ]
    },
    {
      "cell_type": "code",
      "metadata": {
        "id": "L0VIgAXGNT6C"
      },
      "source": [
        "# Creación del folder en donde almacenaré toda la data.\n",
        "!mkdir data"
      ],
      "execution_count": null,
      "outputs": []
    },
    {
      "cell_type": "code",
      "metadata": {
        "id": "E_ADL4bANhV6"
      },
      "source": [
        "# Downloading Dataset\n",
        "def download():\n",
        "  base = 'https://storage.googleapis.com/quickdraw_dataset/full/numpy_bitmap/'\n",
        "  for c in classes:\n",
        "    path = base + c\n",
        "    urllib.request.urlretrieve(path, 'data/'+c)\n",
        "\n",
        "download()"
      ],
      "execution_count": 7,
      "outputs": []
    },
    {
      "cell_type": "markdown",
      "metadata": {
        "id": "6n0KSovlPkwX"
      },
      "source": [
        "### **Loading Data**"
      ]
    },
    {
      "cell_type": "code",
      "metadata": {
        "id": "6HEIgQNHYQnl"
      },
      "source": [
        "def load_data(root, vfold_ratio=0.2, max_items_per_class= 25000 ):\n",
        "    all_files = glob.glob(os.path.join(root, '*.npy'))\n",
        "\n",
        "    #initialize variables \n",
        "    x = np.empty([0, 784])\n",
        "    y = np.empty([0])\n",
        "    class_names = []\n",
        "\n",
        "    #load each data file \n",
        "    for idx, file in enumerate(all_files):\n",
        "        data = np.load(file)\n",
        "        data = data[0: max_items_per_class, :]\n",
        "        labels = np.full(data.shape[0], idx)\n",
        "\n",
        "        x = np.concatenate((x, data), axis=0)\n",
        "        y = np.append(y, labels)\n",
        "\n",
        "        class_name, ext = os.path.splitext(os.path.basename(file))\n",
        "        class_names.append(class_name)\n",
        "\n",
        "    data = None\n",
        "    labels = None\n",
        "    \n",
        "    #randomize the dataset \n",
        "    permutation = np.random.permutation(y.shape[0])\n",
        "    x = x[permutation, :]\n",
        "    y = y[permutation]\n",
        "\n",
        "    #separate into training and testing \n",
        "    vfold_size = int(x.shape[0]/100*(vfold_ratio*100))\n",
        "\n",
        "    x_test = x[0:vfold_size, :]\n",
        "    y_test = y[0:vfold_size]\n",
        "\n",
        "    x_train = x[vfold_size:x.shape[0], :]\n",
        "    y_train = y[vfold_size:y.shape[0]]\n",
        "    return x_train, y_train, x_test, y_test, class_names"
      ],
      "execution_count": 8,
      "outputs": []
    },
    {
      "cell_type": "code",
      "metadata": {
        "id": "K6uUjN-WL2Y9"
      },
      "source": [
        "x_train, y_train, x_test, y_test, class_names = load_data('data')\n",
        "num_classes = len(class_names)\n",
        "image_size = 28"
      ],
      "execution_count": 9,
      "outputs": []
    },
    {
      "cell_type": "code",
      "metadata": {
        "id": "VhGEDS0SMgLK",
        "colab": {
          "base_uri": "https://localhost:8080/"
        },
        "outputId": "551c8448-a2a7-434c-8b52-6fac76fa25f4"
      },
      "source": [
        "print(len(x_train))\n",
        "print(len(x_test))"
      ],
      "execution_count": 10,
      "outputs": [
        {
          "output_type": "stream",
          "name": "stdout",
          "text": [
            "560000\n",
            "140000\n"
          ]
        }
      ]
    },
    {
      "cell_type": "markdown",
      "metadata": {
        "id": "hogV2wLTR5f5"
      },
      "source": [
        "### **Exploring some images**"
      ]
    },
    {
      "cell_type": "code",
      "metadata": {
        "id": "hPaViqLdR-Nu",
        "colab": {
          "base_uri": "https://localhost:8080/",
          "height": 282
        },
        "outputId": "82bae66f-f22b-4853-f8b5-6027e6da6d6d"
      },
      "source": [
        "idx = randint(0, len(x_train))\n",
        "plt.imshow(x_train[idx].reshape(28,28)) \n",
        "print(class_names[int(y_train[idx].item())])"
      ],
      "execution_count": 11,
      "outputs": [
        {
          "output_type": "stream",
          "name": "stdout",
          "text": [
            "foot\n"
          ]
        },
        {
          "output_type": "display_data",
          "data": {
            "image/png": "[encoded data removed]",
            "text/plain": [
              "<Figure size 432x288 with 1 Axes>"
            ]
          },
          "metadata": {
            "needs_background": "light"
          }
        }
      ]
    },
    {
      "cell_type": "markdown",
      "metadata": {
        "id": "EzMOqBusShu3"
      },
      "source": [
        "### **Procesing the data**"
      ]
    },
    {
      "cell_type": "code",
      "metadata": {
        "id": "p2GHUq7D2r9e"
      },
      "source": [
        "# Reshape and normalize\n",
        "from keras import utils as np_utils\n",
        "x_train = x_train.reshape(x_train.shape[0], image_size, image_size, 1).astype('float32')\n",
        "x_test = x_test.reshape(x_test.shape[0], image_size, image_size, 1).astype('float32')\n",
        "\n",
        "x_train /= 255.0\n",
        "x_test /= 255.0\n",
        "\n",
        "# Convert class vectors to class matrices\n",
        "y_train = np_utils.np_utils.to_categorical(y_train, num_classes)\n",
        "y_test = np_utils.np_utils.to_categorical(y_test, num_classes)\n",
        "\n",
        "#keras.utils.np_utils.to_categorical"
      ],
      "execution_count": 12,
      "outputs": []
    },
    {
      "cell_type": "markdown",
      "metadata": {
        "id": "V6ez-jnBS0Se"
      },
      "source": [
        "### **Model**\n",
        "I am using the same pipeline of public repos and articles with already trained models.\n",
        "https://medium.com/tensorflow/train-on-google-colab-and-run-on-the-browser-a-case-study-8a45f9b1474e"
      ]
    },
    {
      "cell_type": "code",
      "metadata": {
        "id": "uYUVV2wf2z8H",
        "colab": {
          "base_uri": "https://localhost:8080/",
          "height": 504
        },
        "outputId": "1cb994df-dd03-4763-be79-90023c75c32e"
      },
      "source": [
        "from tensorflow.keras.models import Sequential\n",
        "model = Sequential()\n",
        "model.add(layers.Convolution2D(16, (3, 3),\n",
        "                        padding='same',\n",
        "                        input_shape=x_train.shape[1:], activation='relu'))\n",
        "model.add(layers.MaxPooling2D(pool_size=(2, 2)))\n",
        "model.add(layers.Convolution2D(32, (3, 3), padding='same', activation= 'relu'))\n",
        "model.add(layers.MaxPooling2D(pool_size=(2, 2)))\n",
        "model.add(layers.Convolution2D(64, (3, 3), padding='same', activation= 'relu'))\n",
        "model.add(layers.MaxPooling2D(pool_size =(2,2)))\n",
        "model.add(layers.Flatten())\n",
        "model.add(layers.Dense(28, activation='relu'))\n",
        "model.add(layers.Dense(len(class_names), activation='softmax')) \n",
        "\n",
        "model.compile(loss='categorical_crossentropy',\n",
        "              optimizer='adam',\n",
        "              metrics=['top_k_categorical_accuracy'])\n",
        "print(model.summary())\n",
        "keras.__version__"
      ],
      "execution_count": 17,
      "outputs": [
        {
          "output_type": "stream",
          "name": "stdout",
          "text": [
            "Model: \"sequential_1\"\n",
            "_________________________________________________________________\n",
            "Layer (type)                 Output Shape              Param #   \n",
            "=================================================================\n",
            "conv2d_3 (Conv2D)            (None, 28, 28, 16)        160       \n",
            "_________________________________________________________________\n",
            "max_pooling2d_3 (MaxPooling2 (None, 14, 14, 16)        0         \n",
            "_________________________________________________________________\n",
            "conv2d_4 (Conv2D)            (None, 14, 14, 32)        4640      \n",
            "_________________________________________________________________\n",
            "max_pooling2d_4 (MaxPooling2 (None, 7, 7, 32)          0         \n",
            "_________________________________________________________________\n",
            "conv2d_5 (Conv2D)            (None, 7, 7, 64)          18496     \n",
            "_________________________________________________________________\n",
            "max_pooling2d_5 (MaxPooling2 (None, 3, 3, 64)          0         \n",
            "_________________________________________________________________\n",
            "flatten_1 (Flatten)          (None, 576)               0         \n",
            "_________________________________________________________________\n",
            "dense_2 (Dense)              (None, 28)                16156     \n",
            "_________________________________________________________________\n",
            "dense_3 (Dense)              (None, 28)                812       \n",
            "=================================================================\n",
            "Total params: 40,264\n",
            "Trainable params: 40,264\n",
            "Non-trainable params: 0\n",
            "_________________________________________________________________\n",
            "None\n"
          ]
        },
        {
          "output_type": "execute_result",
          "data": {
            "application/vnd.google.colaboratory.intrinsic+json": {
              "type": "string"
            },
            "text/plain": [
              "'2.6.0'"
            ]
          },
          "metadata": {},
          "execution_count": 17
        }
      ]
    },
    {
      "cell_type": "markdown",
      "metadata": {
        "id": "RVFjcTiAVBMW"
      },
      "source": [
        "### **Training**"
      ]
    },
    {
      "cell_type": "code",
      "metadata": {
        "id": "B8NWW6ogVEiJ",
        "colab": {
          "base_uri": "https://localhost:8080/"
        },
        "outputId": "36d85feb-b0e7-4bfb-bf5c-8b280b613621"
      },
      "source": [
        "model.fit(x = x_train, y = y_train, validation_split=0.1, batch_size = 256, verbose=2, epochs=10)"
      ],
      "execution_count": 14,
      "outputs": [
        {
          "output_type": "stream",
          "name": "stdout",
          "text": [
            "Epoch 1/10\n",
            "1969/1969 - 68s - loss: 0.9878 - top_k_categorical_accuracy: 0.9252 - val_loss: 0.7416 - val_top_k_categorical_accuracy: 0.9513\n",
            "Epoch 2/10\n",
            "1969/1969 - 26s - loss: 0.6997 - top_k_categorical_accuracy: 0.9563 - val_loss: 0.6628 - val_top_k_categorical_accuracy: 0.9580\n",
            "Epoch 3/10\n",
            "1969/1969 - 28s - loss: 0.6366 - top_k_categorical_accuracy: 0.9618 - val_loss: 0.6211 - val_top_k_categorical_accuracy: 0.9622\n",
            "Epoch 4/10\n",
            "1969/1969 - 20s - loss: 0.6009 - top_k_categorical_accuracy: 0.9648 - val_loss: 0.6036 - val_top_k_categorical_accuracy: 0.9640\n",
            "Epoch 5/10\n",
            "1969/1969 - 31s - loss: 0.5758 - top_k_categorical_accuracy: 0.9668 - val_loss: 0.5856 - val_top_k_categorical_accuracy: 0.9645\n",
            "Epoch 6/10\n",
            "1969/1969 - 20s - loss: 0.5566 - top_k_categorical_accuracy: 0.9683 - val_loss: 0.5799 - val_top_k_categorical_accuracy: 0.9660\n",
            "Epoch 7/10\n",
            "1969/1969 - 32s - loss: 0.5420 - top_k_categorical_accuracy: 0.9697 - val_loss: 0.5742 - val_top_k_categorical_accuracy: 0.9663\n",
            "Epoch 8/10\n",
            "1969/1969 - 21s - loss: 0.5299 - top_k_categorical_accuracy: 0.9709 - val_loss: 0.5698 - val_top_k_categorical_accuracy: 0.9658\n",
            "Epoch 9/10\n",
            "1969/1969 - 30s - loss: 0.5198 - top_k_categorical_accuracy: 0.9717 - val_loss: 0.5678 - val_top_k_categorical_accuracy: 0.9661\n",
            "Epoch 10/10\n",
            "1969/1969 - 19s - loss: 0.5104 - top_k_categorical_accuracy: 0.9727 - val_loss: 0.5664 - val_top_k_categorical_accuracy: 0.9662\n"
          ]
        },
        {
          "output_type": "execute_result",
          "data": {
            "text/plain": [
              "<keras.callbacks.History at 0x7feb0033f190>"
            ]
          },
          "metadata": {},
          "execution_count": 14
        }
      ]
    },
    {
      "cell_type": "markdown",
      "metadata": {
        "id": "NgZN_tG0rhdo"
      },
      "source": [
        "### **Testing**"
      ]
    },
    {
      "cell_type": "code",
      "metadata": {
        "id": "ssaZczS7DxeA",
        "colab": {
          "base_uri": "https://localhost:8080/"
        },
        "outputId": "ee89d5f6-99e9-4cdf-bb2a-ed638d126ae2"
      },
      "source": [
        "score = model.evaluate(x_test, y_test, verbose=0)\n",
        "print('Test accuracy: {:0.2f}%'.format(score[1] * 100))"
      ],
      "execution_count": 15,
      "outputs": [
        {
          "output_type": "stream",
          "name": "stdout",
          "text": [
            "Test accuracy: 96.64%\n"
          ]
        }
      ]
    },
    {
      "cell_type": "code",
      "metadata": {
        "id": "QEcYwXhUsBBt",
        "colab": {
          "base_uri": "https://localhost:8080/",
          "height": 716
        },
        "outputId": "77e0edd0-a343-4230-d022-3f6f31494888"
      },
      "source": [
        "plt.subplots_adjust(hspace=0.5)\n",
        "plt.figure(figsize=(12,12))\n",
        "\n",
        "for i in range(30):\n",
        "  #Random int 0-x_test.lenght to get an image\n",
        "  rand = randint(0, len(x_test))\n",
        "  img = x_test[rand]\n",
        "  plt.subplot(6,5,i+1)\n",
        "  plt.imshow(img.squeeze())  \n",
        "  pred = model.predict(np.expand_dims(img, axis=0))[0]\n",
        "  ind = (-pred).argsort()[:1]\n",
        "  #Printing prediction\n",
        "  plt.title(class_names[ind[0]])\n",
        "  plt.axis('off')\n",
        "\n",
        "\n"
      ],
      "execution_count": 16,
      "outputs": [
        {
          "output_type": "display_data",
          "data": {
            "text/plain": [
              "<Figure size 432x288 with 0 Axes>"
            ]
          },
          "metadata": {}
        },
        {
          "output_type": "display_data",
          "data": {
            "image/png": "[encoded data removed]",
            "text/plain": [
              "<Figure size 864x864 with 30 Axes>"
            ]
          },
          "metadata": {
            "needs_background": "light"
          }
        }
      ]
    }
  ]
}