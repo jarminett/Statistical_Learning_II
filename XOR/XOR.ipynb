{
  "nbformat": 4,
  "nbformat_minor": 0,
  "metadata": {
    "colab": {
      "name": "XOR.ipynb",
      "provenance": [],
      "toc_visible": true,
      "authorship_tag": "ABX9TyN1+WB7w5l2JPzNvCeSSb+t",
      "include_colab_link": true
    },
    "kernelspec": {
      "name": "python3",
      "display_name": "Python 3"
    },
    "language_info": {
      "name": "python"
    }
  },
  "cells": [
    {
      "cell_type": "markdown",
      "metadata": {
        "id": "view-in-github",
        "colab_type": "text"
      },
      "source": [
        "<a href=\"https://colab.research.google.com/github/jarminett/Statistical_Learning_II/blob/main/XOR/XOR.ipynb\" target=\"_parent\"><img src=\"https://colab.research.google.com/assets/colab-badge.svg\" alt=\"Open In Colab\"/></a>"
      ]
    },
    {
      "cell_type": "markdown",
      "metadata": {
        "id": "d8UAsNlqWRaL"
      },
      "source": [
        "**UNIVERSIDAD GALILEO** \\\\\n",
        "Instituto de Investigación de Operaciones \\\\\n",
        "Posgrado en Análisis y Predicción de Datos \\\\\n",
        "Luis Florian, 0710082, sección U \\\\\n",
        "\n",
        "**XOR con composición y perceptrones**\n",
        "\n",
        "Terminar el ejercicio empezado en clase: Xor a través de composición manual de perceptrones.\n",
        "\n",
        "Nota: vectorizar código (resolver a través de operaciones vectorizadas)"
      ]
    },
    {
      "cell_type": "markdown",
      "metadata": {
        "id": "6Pjs6iIJXYb4"
      },
      "source": [
        "### **Libraries**"
      ]
    },
    {
      "cell_type": "code",
      "metadata": {
        "id": "6T_os7g0Xaz8"
      },
      "source": [
        "import numpy as np\n",
        "import pandas as pd\n",
        "from matplotlib.colors import ListedColormap\n",
        "import matplotlib.pyplot as plt"
      ],
      "execution_count": 59,
      "outputs": []
    },
    {
      "cell_type": "markdown",
      "metadata": {
        "id": "twwrr4itXoM3"
      },
      "source": [
        "### **Red Neural**"
      ]
    },
    {
      "cell_type": "code",
      "metadata": {
        "id": "K7wvIaejXsHU"
      },
      "source": [
        "# Reutilizacion de code del ejercicio anterior.\n",
        "class XOR:\n",
        "    def __init__(self):\n",
        "        self.w1 = np.array([\n",
        "            [20, -20],\n",
        "            [20, -20],\n",
        "            [-10, 30]\n",
        "        ])\n",
        "        self.w2  = np.array([20, 20, -30])\n",
        "        self.H = None  \n",
        "    \n",
        "    def hiddenLayer(self):\n",
        "        return self.H\n",
        "        \n",
        "    def __sigmoid(self,X):\n",
        "        return 1/(1+np.exp(-X))\n",
        "\n",
        "   \n",
        "    \n",
        "    def forwardPropagation(self,X):\n",
        "        X = np.c_[ X, np.ones(X.shape[0]) ]  \n",
        "        self.H = self.__sigmoid(np.matmul(X,self.w1))\n",
        "        H_bias = np.c_[ self.H, np.ones(self.H.shape[0]) ] \n",
        "        yhat = self.__sigmoid(np.matmul(H_bias,self.w2))\n",
        "        return yhat.reshape(-1,1)"
      ],
      "execution_count": 51,
      "outputs": []
    },
    {
      "cell_type": "code",
      "metadata": {
        "id": "z8XPdE6CYPiU"
      },
      "source": [
        "#Todas las combinaciones binarias de dos features.\n",
        "x1 = np.array([0,0,1,1]).reshape(-1,1)\n",
        "x2 =  np.array([0,1,0,1]).reshape(-1,1)\n",
        "x = np.hstack((x1,x2))"
      ],
      "execution_count": 45,
      "outputs": []
    },
    {
      "cell_type": "markdown",
      "metadata": {
        "id": "ECfszQoHZdLL"
      },
      "source": [
        "### **Cálculo de XOR**"
      ]
    },
    {
      "cell_type": "code",
      "metadata": {
        "colab": {
          "base_uri": "https://localhost:8080/",
          "height": 175
        },
        "id": "trId8zF6Zj9W",
        "outputId": "e867c043-bed7-41ae-fbf6-3fef8cc16cd1"
      },
      "source": [
        "RN_xor = XOR()\n",
        "y = np.around(RN_xor.forwardPropagation(x).reshape(-1,1))\n",
        "#pd.DataFrame(np.hstack((x,y), columns = [\"x1\", \"x2\", \"y\"] ))\n",
        "valores = np.hstack((x,y))\n",
        "c = [\"x1\", \"x2\", \"XOR\"]\n",
        "\n",
        "cuadro = pd.DataFrame(valores, columns=c)\n",
        "cuadro"
      ],
      "execution_count": 54,
      "outputs": [
        {
          "output_type": "execute_result",
          "data": {
            "text/html": [
              "<div>\n",
              "<style scoped>\n",
              "    .dataframe tbody tr th:only-of-type {\n",
              "        vertical-align: middle;\n",
              "    }\n",
              "\n",
              "    .dataframe tbody tr th {\n",
              "        vertical-align: top;\n",
              "    }\n",
              "\n",
              "    .dataframe thead th {\n",
              "        text-align: right;\n",
              "    }\n",
              "</style>\n",
              "<table border=\"1\" class=\"dataframe\">\n",
              "  <thead>\n",
              "    <tr style=\"text-align: right;\">\n",
              "      <th></th>\n",
              "      <th>x1</th>\n",
              "      <th>x2</th>\n",
              "      <th>XOR</th>\n",
              "    </tr>\n",
              "  </thead>\n",
              "  <tbody>\n",
              "    <tr>\n",
              "      <th>0</th>\n",
              "      <td>0.0</td>\n",
              "      <td>0.0</td>\n",
              "      <td>0.0</td>\n",
              "    </tr>\n",
              "    <tr>\n",
              "      <th>1</th>\n",
              "      <td>0.0</td>\n",
              "      <td>1.0</td>\n",
              "      <td>1.0</td>\n",
              "    </tr>\n",
              "    <tr>\n",
              "      <th>2</th>\n",
              "      <td>1.0</td>\n",
              "      <td>0.0</td>\n",
              "      <td>1.0</td>\n",
              "    </tr>\n",
              "    <tr>\n",
              "      <th>3</th>\n",
              "      <td>1.0</td>\n",
              "      <td>1.0</td>\n",
              "      <td>0.0</td>\n",
              "    </tr>\n",
              "  </tbody>\n",
              "</table>\n",
              "</div>"
            ],
            "text/plain": [
              "    x1   x2  XOR\n",
              "0  0.0  0.0  0.0\n",
              "1  0.0  1.0  1.0\n",
              "2  1.0  0.0  1.0\n",
              "3  1.0  1.0  0.0"
            ]
          },
          "metadata": {},
          "execution_count": 54
        }
      ]
    },
    {
      "cell_type": "markdown",
      "metadata": {
        "id": "apIB8XiLdxE7"
      },
      "source": [
        "### **Matriz Resultante**"
      ]
    },
    {
      "cell_type": "code",
      "metadata": {
        "colab": {
          "base_uri": "https://localhost:8080/",
          "height": 175
        },
        "id": "5f43LXJsd0XK",
        "outputId": "9de21704-4a96-48c4-e97b-f030f4cb10fc"
      },
      "source": [
        "matriz = RN_xor.hiddenLayer()\n",
        "pd.DataFrame(matriz, columns = [\"h1\", \"h2\"] )"
      ],
      "execution_count": 55,
      "outputs": [
        {
          "output_type": "execute_result",
          "data": {
            "text/html": [
              "<div>\n",
              "<style scoped>\n",
              "    .dataframe tbody tr th:only-of-type {\n",
              "        vertical-align: middle;\n",
              "    }\n",
              "\n",
              "    .dataframe tbody tr th {\n",
              "        vertical-align: top;\n",
              "    }\n",
              "\n",
              "    .dataframe thead th {\n",
              "        text-align: right;\n",
              "    }\n",
              "</style>\n",
              "<table border=\"1\" class=\"dataframe\">\n",
              "  <thead>\n",
              "    <tr style=\"text-align: right;\">\n",
              "      <th></th>\n",
              "      <th>h1</th>\n",
              "      <th>h2</th>\n",
              "    </tr>\n",
              "  </thead>\n",
              "  <tbody>\n",
              "    <tr>\n",
              "      <th>0</th>\n",
              "      <td>0.000045</td>\n",
              "      <td>1.000000</td>\n",
              "    </tr>\n",
              "    <tr>\n",
              "      <th>1</th>\n",
              "      <td>0.999955</td>\n",
              "      <td>0.999955</td>\n",
              "    </tr>\n",
              "    <tr>\n",
              "      <th>2</th>\n",
              "      <td>0.999955</td>\n",
              "      <td>0.999955</td>\n",
              "    </tr>\n",
              "    <tr>\n",
              "      <th>3</th>\n",
              "      <td>1.000000</td>\n",
              "      <td>0.000045</td>\n",
              "    </tr>\n",
              "  </tbody>\n",
              "</table>\n",
              "</div>"
            ],
            "text/plain": [
              "         h1        h2\n",
              "0  0.000045  1.000000\n",
              "1  0.999955  0.999955\n",
              "2  0.999955  0.999955\n",
              "3  1.000000  0.000045"
            ]
          },
          "metadata": {},
          "execution_count": 55
        }
      ]
    },
    {
      "cell_type": "code",
      "metadata": {
        "colab": {
          "base_uri": "https://localhost:8080/",
          "height": 283
        },
        "id": "WoDFTSmie3RY",
        "outputId": "ac53df31-23df-495e-e869-79f7ea236f80"
      },
      "source": [
        "font = {'family': 'DejaVu Sans',\n",
        "        'color':  'black',\n",
        "        'weight': 'bold',\n",
        "        'size': 15,\n",
        "        }\n",
        "\n",
        "colours = ListedColormap(['blue','green'])\n",
        "classes = [\"0.000045\",\"0.999955\"]\n",
        "\n",
        "plot = plt.scatter(matriz[:,0],matriz[:, 1], c=y.reshape(1,-1)[0].tolist(),cmap=colours)\n",
        "\n",
        "plt.title(\"Matriz Resultante\",fontdict=font)\n",
        "plt.legend(handles=plot.legend_elements()[0],labels=classes)\n",
        "plt.grid(True)\n",
        "plt.show()"
      ],
      "execution_count": 65,
      "outputs": [
        {
          "output_type": "display_data",
          "data": {
            "image/png": "[encoded data removed]",
            "text/plain": [
              "<Figure size 432x288 with 1 Axes>"
            ]
          },
          "metadata": {
            "needs_background": "light"
          }
        }
      ]
    }
  ]
}