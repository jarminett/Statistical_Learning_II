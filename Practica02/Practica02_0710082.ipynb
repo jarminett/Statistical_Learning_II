{
  "nbformat": 4,
  "nbformat_minor": 0,
  "metadata": {
    "colab": {
      "name": "Practica02_0710082.ipynb",
      "provenance": [],
      "collapsed_sections": [],
      "toc_visible": true,
      "authorship_tag": "ABX9TyMWG99gfUdNxC8C2MGOnMnn",
      "include_colab_link": true
    },
    "kernelspec": {
      "name": "python3",
      "display_name": "Python 3"
    },
    "language_info": {
      "name": "python"
    }
  },
  "cells": [
    {
      "cell_type": "markdown",
      "metadata": {
        "id": "view-in-github",
        "colab_type": "text"
      },
      "source": [
        "<a href=\"https://colab.research.google.com/github/jarminett/Statistical_Learning_II/blob/main/Practica02/Practica02_0710082.ipynb\" target=\"_parent\"><img src=\"https://colab.research.google.com/assets/colab-badge.svg\" alt=\"Open In Colab\"/></a>"
      ]
    },
    {
      "cell_type": "markdown",
      "metadata": {
        "id": "RO_BFrWUuhL1"
      },
      "source": [
        "**UNIVERSIDAD GALILEO** \\\\\n",
        "Instituto de Investigación de Operaciones \\\\\n",
        "Posgrado en Análisis y Predicción de Datos \\\\\n",
        "Luis Florian, 0710082, sección U \\\\\n",
        "\n",
        "\n",
        "**Detección de Anomalías**\n",
        "\n",
        "Usando el dataset de estaturas aplicar detección de anomalías\n",
        "\n",
        "Usar como training-set la primera pestaña de \"normales\" (y = 0 o sin anomalías)\n",
        "\n",
        "La segunda pestaña \"valtest(normales)\" contiene datos normales (y = 0 / sin anomalías)\n",
        "* Usar la mitad para cross-validation\n",
        "* Usar la mitad para testing\n",
        "\n",
        "La tercera pestaña \"valtest(anomalías)\" contiene anomalías (y = 1)\n",
        "* Usar la mitad para cross-validation\n",
        "* Usar la mitad para testing\n",
        "\n",
        "\n",
        "**Reducción de Dimensionalidad**\n",
        "\n",
        "Usando el dataset de \"fashion MNIST\" realizar:\n",
        "* PCA sin sci-kit learn para reducir a 2 dimensiones. Anotar la cantidad de varianza preservada."
      ]
    },
    {
      "cell_type": "markdown",
      "metadata": {
        "id": "-tWAb8tTvGxi"
      },
      "source": [
        "### **Importing Libraries**"
      ]
    },
    {
      "cell_type": "markdown",
      "metadata": {
        "id": "hXZewAc1W7NT"
      },
      "source": [
        "## **Detección de Anomalías**"
      ]
    },
    {
      "cell_type": "code",
      "metadata": {
        "id": "yKzpoTyzvK93"
      },
      "source": [
        "import numpy as np\n",
        "import pandas as pd\n",
        "import seaborn as sns\n",
        "import matplotlib.pyplot as plt\n",
        "from scipy.stats import multivariate_normal\n",
        "from sklearn.metrics import f1_score\n",
        "from tensorflow import keras\n",
        "from sklearn.manifold import TSNE\n",
        "from sklearn.mixture import GaussianMixture\n",
        "from keras.datasets import fashion_mnist"
      ],
      "execution_count": 180,
      "outputs": []
    },
    {
      "cell_type": "markdown",
      "metadata": {
        "id": "7m3Q4GmN6ONp"
      },
      "source": [
        "### **Loading Data**"
      ]
    },
    {
      "cell_type": "code",
      "metadata": {
        "colab": {
          "base_uri": "https://localhost:8080/"
        },
        "id": "6AJhZrn753iX",
        "outputId": "21d8ae2a-cdd4-4cec-c79a-ec58d583efc3"
      },
      "source": [
        "from google.colab import drive\n",
        "drive.mount('/content/drive/')"
      ],
      "execution_count": 54,
      "outputs": [
        {
          "output_type": "stream",
          "name": "stdout",
          "text": [
            "Drive already mounted at /content/drive/; to attempt to forcibly remount, call drive.mount(\"/content/drive/\", force_remount=True).\n"
          ]
        }
      ]
    },
    {
      "cell_type": "code",
      "metadata": {
        "colab": {
          "base_uri": "https://localhost:8080/",
          "height": 206
        },
        "id": "hrky2qBo6Sna",
        "outputId": "288e2ef0-7eef-4128-edc9-52e1b97bce8b"
      },
      "source": [
        "training = pd.read_csv(\"/content/drive/MyDrive/MyNotebooks/Data Science Msc/Statistical Learning II/Lab02/estaturas_normales.csv\")\n",
        "anomalias = pd.read_csv(\"/content/drive/MyDrive/MyNotebooks/Data Science Msc/Statistical Learning II/Lab02/valtest-anomalias.csv\")\n",
        "normales = pd.read_csv(\"/content/drive/MyDrive/MyNotebooks/Data Science Msc/Statistical Learning II/Lab02/valtest-normales.csv\")\n",
        "training.head()"
      ],
      "execution_count": 171,
      "outputs": [
        {
          "output_type": "execute_result",
          "data": {
            "text/html": [
              "<div>\n",
              "<style scoped>\n",
              "    .dataframe tbody tr th:only-of-type {\n",
              "        vertical-align: middle;\n",
              "    }\n",
              "\n",
              "    .dataframe tbody tr th {\n",
              "        vertical-align: top;\n",
              "    }\n",
              "\n",
              "    .dataframe thead th {\n",
              "        text-align: right;\n",
              "    }\n",
              "</style>\n",
              "<table border=\"1\" class=\"dataframe\">\n",
              "  <thead>\n",
              "    <tr style=\"text-align: right;\">\n",
              "      <th></th>\n",
              "      <th>Estatura</th>\n",
              "      <th>Edad</th>\n",
              "    </tr>\n",
              "  </thead>\n",
              "  <tbody>\n",
              "    <tr>\n",
              "      <th>0</th>\n",
              "      <td>1.77</td>\n",
              "      <td>26</td>\n",
              "    </tr>\n",
              "    <tr>\n",
              "      <th>1</th>\n",
              "      <td>1.74</td>\n",
              "      <td>31</td>\n",
              "    </tr>\n",
              "    <tr>\n",
              "      <th>2</th>\n",
              "      <td>1.72</td>\n",
              "      <td>24</td>\n",
              "    </tr>\n",
              "    <tr>\n",
              "      <th>3</th>\n",
              "      <td>1.78</td>\n",
              "      <td>34</td>\n",
              "    </tr>\n",
              "    <tr>\n",
              "      <th>4</th>\n",
              "      <td>1.65</td>\n",
              "      <td>32</td>\n",
              "    </tr>\n",
              "  </tbody>\n",
              "</table>\n",
              "</div>"
            ],
            "text/plain": [
              "   Estatura  Edad\n",
              "0      1.77    26\n",
              "1      1.74    31\n",
              "2      1.72    24\n",
              "3      1.78    34\n",
              "4      1.65    32"
            ]
          },
          "metadata": {},
          "execution_count": 171
        }
      ]
    },
    {
      "cell_type": "code",
      "metadata": {
        "colab": {
          "base_uri": "https://localhost:8080/",
          "height": 238
        },
        "id": "fNN-_UZ69S-J",
        "outputId": "0b5af0e9-600e-4bcf-b9d3-d50f206c0d87"
      },
      "source": [
        "validationSet = pd.concat([normales.loc[:(len(normales)/2)-1,], anomalias.loc[:(len(anomalias)/2)-1,]], ignore_index = True)\n",
        "testSet = pd.concat([normales.loc[len(normales)/2:,], anomalias.loc[len(anomalias)/2:,]], ignore_index = True)"
      ],
      "execution_count": 173,
      "outputs": [
        {
          "output_type": "execute_result",
          "data": {
            "text/html": [
              "<div>\n",
              "<style scoped>\n",
              "    .dataframe tbody tr th:only-of-type {\n",
              "        vertical-align: middle;\n",
              "    }\n",
              "\n",
              "    .dataframe tbody tr th {\n",
              "        vertical-align: top;\n",
              "    }\n",
              "\n",
              "    .dataframe thead th {\n",
              "        text-align: right;\n",
              "    }\n",
              "</style>\n",
              "<table border=\"1\" class=\"dataframe\">\n",
              "  <thead>\n",
              "    <tr style=\"text-align: right;\">\n",
              "      <th></th>\n",
              "      <th>Estatura</th>\n",
              "      <th>Edad</th>\n",
              "    </tr>\n",
              "  </thead>\n",
              "  <tbody>\n",
              "    <tr>\n",
              "      <th>0</th>\n",
              "      <td>1.82</td>\n",
              "      <td>30.0</td>\n",
              "    </tr>\n",
              "    <tr>\n",
              "      <th>1</th>\n",
              "      <td>1.76</td>\n",
              "      <td>32.0</td>\n",
              "    </tr>\n",
              "    <tr>\n",
              "      <th>2</th>\n",
              "      <td>1.79</td>\n",
              "      <td>31.0</td>\n",
              "    </tr>\n",
              "    <tr>\n",
              "      <th>3</th>\n",
              "      <td>1.61</td>\n",
              "      <td>31.0</td>\n",
              "    </tr>\n",
              "    <tr>\n",
              "      <th>4</th>\n",
              "      <td>0.15</td>\n",
              "      <td>250.0</td>\n",
              "    </tr>\n",
              "    <tr>\n",
              "      <th>5</th>\n",
              "      <td>150.00</td>\n",
              "      <td>14.0</td>\n",
              "    </tr>\n",
              "  </tbody>\n",
              "</table>\n",
              "</div>"
            ],
            "text/plain": [
              "   Estatura   Edad\n",
              "0      1.82   30.0\n",
              "1      1.76   32.0\n",
              "2      1.79   31.0\n",
              "3      1.61   31.0\n",
              "4      0.15  250.0\n",
              "5    150.00   14.0"
            ]
          },
          "metadata": {},
          "execution_count": 173
        }
      ]
    },
    {
      "cell_type": "markdown",
      "metadata": {
        "id": "razM6Z6z_IY3"
      },
      "source": [
        "### **Plot Training Data**"
      ]
    },
    {
      "cell_type": "code",
      "metadata": {
        "colab": {
          "base_uri": "https://localhost:8080/",
          "height": 297
        },
        "id": "AxNFgvAV_Nx-",
        "outputId": "8f73b93b-3813-47e3-d380-fe46c1527be6"
      },
      "source": [
        "font = {'family': 'DejaVu Sans',\n",
        "        'color':  'black',\n",
        "        'weight': 'bold',\n",
        "        'size': 15,\n",
        "        }\n",
        "\n",
        "plt.scatter(training.iloc[:,0], training.iloc[:,1], c=\"green\")\n",
        "plt.xlabel(\"Estatura\")\n",
        "plt.ylabel(\"Edad\")\n",
        "plt.title(\"Estatura por Edad\", fontdict=font)\n",
        "plt.show()"
      ],
      "execution_count": 57,
      "outputs": [
        {
          "output_type": "display_data",
          "data": {
            "image/png": "[encoded data removed]",
            "text/plain": [
              "<Figure size 432x288 with 1 Axes>"
            ]
          },
          "metadata": {
            "needs_background": "light"
          }
        }
      ]
    },
    {
      "cell_type": "code",
      "metadata": {
        "id": "iOYxUe24AI6c"
      },
      "source": [
        "def multivariateGaussian(dataset, mu, sigma):\n",
        "  gaussian = multivariate_normal(mean=mu, cov=sigma)  \n",
        "  return gaussian.pdf(dataset)\n",
        "\n",
        "def getGaussian(dataset):\n",
        "  mu = np.mean(dataset, axis=0)\n",
        "  sigma = np.cov(dataset.T)\n",
        "  return mu, sigma\n",
        "\n",
        "def getEpsilon(probs, true_anomaly):\n",
        "  myepsilon = 0\n",
        "  f1Score = 0\n",
        "  current_f1Score = 0\n",
        "\n",
        "  step_size = (max(probs) - min(probs)) / 1000\n",
        "  epsilons_list = np.arange(min(probs), max(probs), step_size)\n",
        "  print(np.nditer(epsilons_list))\n",
        "\n",
        "  for epsilon in np.nditer(epsilons_list):\n",
        "    predictions = (probs < epsilon)\n",
        "    current_f1Score = f1_score(true_anomaly.iloc[:,2], predictions, average = \"binary\")\n",
        "    \n",
        "    if (current_f1Score > f1Score):\n",
        "      f1Score = current_f1Score \n",
        "      myepsilon = epsilon\n",
        "      \n",
        "  return f1Score, myepsilon"
      ],
      "execution_count": 156,
      "outputs": []
    },
    {
      "cell_type": "code",
      "metadata": {
        "id": "G3_k24aPB7gT"
      },
      "source": [
        "def DetectAnomalies(probs, epsilon, datasett):\n",
        "  dataset = datasett.copy() # para evitar que se hagan cambios en dataset original\n",
        "  anomalies = []\n",
        "  for prob in probs:      \n",
        "    if prob < epsilon:\n",
        "      anomalies.append(\"YES\")\n",
        "    else:\n",
        "      anomalies.append(\"NO\")\n",
        "\n",
        "  dataset['Anomalía'] = anomalies\n",
        "\n",
        "  return dataset"
      ],
      "execution_count": 176,
      "outputs": []
    },
    {
      "cell_type": "code",
      "metadata": {
        "colab": {
          "base_uri": "https://localhost:8080/"
        },
        "id": "9CSanU_kCu5h",
        "outputId": "b1771bf2-fed2-4e99-c7fb-7beaba242737"
      },
      "source": [
        "mu, sigma = getGaussian(training)\n",
        "probs = multivariateGaussian(training, mu, sigma)\n",
        "\n",
        "#Validacion\n",
        "probs_validacion = multivariateGaussian(validationSet, mu, sigma)\n",
        "probs_validacion\n",
        "\n",
        "validationSetTrueAnomaly = validationSet.copy()\n",
        "validationSetTrueAnomaly['Anomalia'] = [False, False, False, False,  True,  True]\n",
        "\n",
        "#The best hyperparameters\n",
        "f1, eps = getEpsilon(probs_validacion, validationSetTrueAnomaly)\n",
        "eps"
      ],
      "execution_count": 177,
      "outputs": [
        {
          "output_type": "stream",
          "name": "stdout",
          "text": [
            "<numpy.nditer object at 0x7f75920a7990>\n"
          ]
        },
        {
          "output_type": "execute_result",
          "data": {
            "text/plain": [
              "array(0.00018691)"
            ]
          },
          "metadata": {},
          "execution_count": 177
        }
      ]
    },
    {
      "cell_type": "markdown",
      "metadata": {
        "id": "nj1RMEIMT3kd"
      },
      "source": [
        "### **Detección de Anomalías**\n",
        "Esta parte se realizará con el dataset de validación."
      ]
    },
    {
      "cell_type": "code",
      "metadata": {
        "colab": {
          "base_uri": "https://localhost:8080/",
          "height": 238
        },
        "id": "TenYE8lkT8HY",
        "outputId": "500b63df-dfc5-43f4-8403-e7f9e8b48200"
      },
      "source": [
        "anomaly = DetectAnomalies(probs_validacion, eps, validationSet)\n",
        "anomaly"
      ],
      "execution_count": 178,
      "outputs": [
        {
          "output_type": "execute_result",
          "data": {
            "text/html": [
              "<div>\n",
              "<style scoped>\n",
              "    .dataframe tbody tr th:only-of-type {\n",
              "        vertical-align: middle;\n",
              "    }\n",
              "\n",
              "    .dataframe tbody tr th {\n",
              "        vertical-align: top;\n",
              "    }\n",
              "\n",
              "    .dataframe thead th {\n",
              "        text-align: right;\n",
              "    }\n",
              "</style>\n",
              "<table border=\"1\" class=\"dataframe\">\n",
              "  <thead>\n",
              "    <tr style=\"text-align: right;\">\n",
              "      <th></th>\n",
              "      <th>Estatura</th>\n",
              "      <th>Edad</th>\n",
              "      <th>Anomalía</th>\n",
              "    </tr>\n",
              "  </thead>\n",
              "  <tbody>\n",
              "    <tr>\n",
              "      <th>0</th>\n",
              "      <td>1.82</td>\n",
              "      <td>25.0</td>\n",
              "      <td>NO</td>\n",
              "    </tr>\n",
              "    <tr>\n",
              "      <th>1</th>\n",
              "      <td>1.80</td>\n",
              "      <td>27.0</td>\n",
              "      <td>NO</td>\n",
              "    </tr>\n",
              "    <tr>\n",
              "      <th>2</th>\n",
              "      <td>1.60</td>\n",
              "      <td>31.0</td>\n",
              "      <td>NO</td>\n",
              "    </tr>\n",
              "    <tr>\n",
              "      <th>3</th>\n",
              "      <td>1.60</td>\n",
              "      <td>35.0</td>\n",
              "      <td>NO</td>\n",
              "    </tr>\n",
              "    <tr>\n",
              "      <th>4</th>\n",
              "      <td>0.25</td>\n",
              "      <td>2.4</td>\n",
              "      <td>YES</td>\n",
              "    </tr>\n",
              "    <tr>\n",
              "      <th>5</th>\n",
              "      <td>175.10</td>\n",
              "      <td>2.5</td>\n",
              "      <td>YES</td>\n",
              "    </tr>\n",
              "  </tbody>\n",
              "</table>\n",
              "</div>"
            ],
            "text/plain": [
              "   Estatura  Edad Anomalía\n",
              "0      1.82  25.0       NO\n",
              "1      1.80  27.0       NO\n",
              "2      1.60  31.0       NO\n",
              "3      1.60  35.0       NO\n",
              "4      0.25   2.4      YES\n",
              "5    175.10   2.5      YES"
            ]
          },
          "metadata": {},
          "execution_count": 178
        }
      ]
    },
    {
      "cell_type": "markdown",
      "metadata": {
        "id": "NE_ophzTVB0g"
      },
      "source": [
        "A continuación se presenta otra detección de anomalías.  Esta vez, utilizando el data set de testing."
      ]
    },
    {
      "cell_type": "code",
      "metadata": {
        "colab": {
          "base_uri": "https://localhost:8080/",
          "height": 238
        },
        "id": "iD0MmIMFVJT8",
        "outputId": "f9165da4-8ac2-4c31-9aaf-f98b99f85cc3"
      },
      "source": [
        "probs_test = multivariateGaussian(testSet, mu, sigma)\n",
        "anomalyTest = DetectAnomalies(probs_test, eps, testSet)\n",
        "anomalyTest\n"
      ],
      "execution_count": 179,
      "outputs": [
        {
          "output_type": "execute_result",
          "data": {
            "text/html": [
              "<div>\n",
              "<style scoped>\n",
              "    .dataframe tbody tr th:only-of-type {\n",
              "        vertical-align: middle;\n",
              "    }\n",
              "\n",
              "    .dataframe tbody tr th {\n",
              "        vertical-align: top;\n",
              "    }\n",
              "\n",
              "    .dataframe thead th {\n",
              "        text-align: right;\n",
              "    }\n",
              "</style>\n",
              "<table border=\"1\" class=\"dataframe\">\n",
              "  <thead>\n",
              "    <tr style=\"text-align: right;\">\n",
              "      <th></th>\n",
              "      <th>Estatura</th>\n",
              "      <th>Edad</th>\n",
              "      <th>Anomalía</th>\n",
              "    </tr>\n",
              "  </thead>\n",
              "  <tbody>\n",
              "    <tr>\n",
              "      <th>0</th>\n",
              "      <td>1.82</td>\n",
              "      <td>30.0</td>\n",
              "      <td>NO</td>\n",
              "    </tr>\n",
              "    <tr>\n",
              "      <th>1</th>\n",
              "      <td>1.76</td>\n",
              "      <td>32.0</td>\n",
              "      <td>NO</td>\n",
              "    </tr>\n",
              "    <tr>\n",
              "      <th>2</th>\n",
              "      <td>1.79</td>\n",
              "      <td>31.0</td>\n",
              "      <td>NO</td>\n",
              "    </tr>\n",
              "    <tr>\n",
              "      <th>3</th>\n",
              "      <td>1.61</td>\n",
              "      <td>31.0</td>\n",
              "      <td>NO</td>\n",
              "    </tr>\n",
              "    <tr>\n",
              "      <th>4</th>\n",
              "      <td>0.15</td>\n",
              "      <td>250.0</td>\n",
              "      <td>YES</td>\n",
              "    </tr>\n",
              "    <tr>\n",
              "      <th>5</th>\n",
              "      <td>150.00</td>\n",
              "      <td>14.0</td>\n",
              "      <td>YES</td>\n",
              "    </tr>\n",
              "  </tbody>\n",
              "</table>\n",
              "</div>"
            ],
            "text/plain": [
              "   Estatura   Edad Anomalía\n",
              "0      1.82   30.0       NO\n",
              "1      1.76   32.0       NO\n",
              "2      1.79   31.0       NO\n",
              "3      1.61   31.0       NO\n",
              "4      0.15  250.0      YES\n",
              "5    150.00   14.0      YES"
            ]
          },
          "metadata": {},
          "execution_count": 179
        }
      ]
    },
    {
      "cell_type": "markdown",
      "metadata": {
        "id": "lmjivQA_V6Tb"
      },
      "source": [
        "### **Conclusiones**\n",
        "Como se observa, tanto para validation como para testing el resultado tiene sentido.  Los outliers son detectados como Anomalías."
      ]
    }
  ]
}