{
  "nbformat": 4,
  "nbformat_minor": 0,
  "metadata": {
    "colab": {
      "name": "ForwardPropagation.ipynb",
      "provenance": [],
      "toc_visible": true,
      "authorship_tag": "ABX9TyMRUw0Tge2ZPerzhTGeFkc8",
      "include_colab_link": true
    },
    "kernelspec": {
      "name": "python3",
      "display_name": "Python 3"
    },
    "language_info": {
      "name": "python"
    }
  },
  "cells": [
    {
      "cell_type": "markdown",
      "metadata": {
        "id": "view-in-github",
        "colab_type": "text"
      },
      "source": [
        "<a href=\"https://colab.research.google.com/github/jarminett/Statistical_Learning_II/blob/main/ForwardPropagation/ForwardPropagation.ipynb\" target=\"_parent\"><img src=\"https://colab.research.google.com/assets/colab-badge.svg\" alt=\"Open In Colab\"/></a>"
      ]
    },
    {
      "cell_type": "markdown",
      "metadata": {
        "id": "6sqKGlNTQ7nG"
      },
      "source": [
        "**UNIVERSIDAD GALILEO** \\\\\n",
        "Instituto de Investigación de Operaciones \\\\\n",
        "Posgrado en Análisis y Predicción de Datos \\\\\n",
        "Luis Florian, 0710082, sección U \\\\\n",
        "\n",
        "**Forward Propagation  y análisis de representaciones intermedias**\n",
        "\n",
        "- Completar el ejercicio empezado en clase de forward-propagation para los 3 diagramas dados, en el tercer diagrama analizar la representación intermedia(ver descripción detallada en presentación 8). Aplicar operaciones vectorizadas\n",
        "\n",
        "- Usando markdown agregar una sección indicando cuantos parámetros entrenables se tienen para cada uno de los modelos de la diapositiva \"Ejercicio conexiones neuronales (sinapsis)\"\n",
        "Usar como referencia notebook de ejemplo:\n",
        "\n",
        "https://drive.google.com/file/d/1HCRriuZy_GIngnc4fz4ocXJq3judJbOG/view?usp=sharing"
      ]
    },
    {
      "cell_type": "markdown",
      "metadata": {
        "id": "XDiBG1dTRTFS"
      },
      "source": [
        "### **Importing Libraries**"
      ]
    },
    {
      "cell_type": "code",
      "metadata": {
        "id": "5zfZio6eRXZ2"
      },
      "source": [
        "import numpy as np"
      ],
      "execution_count": 1,
      "outputs": []
    },
    {
      "cell_type": "markdown",
      "metadata": {
        "id": "jKgwrjb5R6kL"
      },
      "source": [
        "### **Primera Red**"
      ]
    },
    {
      "cell_type": "code",
      "metadata": {
        "id": "Roq8OfO6R-Rl"
      },
      "source": [
        "class RN1:\n",
        "    def __init__(self):\n",
        "        self.Wc1 = np.array([\n",
        "            [0.9,0.3,0.2],\n",
        "            [0.8,0.5,0.4],\n",
        "            [0.1,0.6,0.7]\n",
        "        ])\n",
        "        self. Wc2  = np.array([0.3,0.5,0.9])\n",
        "    \n",
        "    def __sigmoid(self,X):\n",
        "        return 1/(1+np.exp(-X))\n",
        "    \n",
        "    def forwardPropagation(self,X):\n",
        "        A = self.__sigmoid(np.matmul(X,self.Wc1))\n",
        "        print(\"First Layer Output:\")\n",
        "        print(A)\n",
        "        yhat = self.__sigmoid(np.matmul(A,self.Wc2))\n",
        "        return yhat"
      ],
      "execution_count": 5,
      "outputs": []
    },
    {
      "cell_type": "code",
      "metadata": {
        "colab": {
          "base_uri": "https://localhost:8080/"
        },
        "id": "oB38Yk1FSelw",
        "outputId": "873ff335-a44a-49c4-b7e4-b5c245432262"
      },
      "source": [
        "# 5 observaciones, 3 variables\n",
        "x = np.array([\n",
        "      [1,0,1],\n",
        "      [1,2,3],\n",
        "      [4,5,6],\n",
        "      [7,8,9],\n",
        "      [10,11,12]\n",
        "])\n",
        "\n",
        "red1 = RN1()\n",
        "y = red1.forwardPropagation(x)\n"
      ],
      "execution_count": 6,
      "outputs": [
        {
          "output_type": "stream",
          "name": "stdout",
          "text": [
            "First Layer Output:\n",
            "[[0.73105858 0.7109495  0.7109495 ]\n",
            " [0.94267582 0.95689275 0.95689275]\n",
            " [0.99972542 0.99932492 0.99908895]\n",
            " [0.99999876 0.99998987 0.99998154]\n",
            " [0.99999999 0.99999985 0.99999963]]\n"
          ]
        }
      ]
    },
    {
      "cell_type": "markdown",
      "metadata": {
        "id": "1kzJUPbwTEeG"
      },
      "source": [
        "### **Segunda Red**"
      ]
    },
    {
      "cell_type": "code",
      "metadata": {
        "id": "gCcufFBoTH6_"
      },
      "source": [
        "class RN2:\n",
        "    def __init__(self):\n",
        "        self.Wc1 = np.array([\n",
        "            [5, 7 ],\n",
        "            [-2, -3],\n",
        "            [-8, 1]\n",
        "        ])\n",
        "        self. Wc2  = np.array([7, 5, -6])\n",
        "    \n",
        "    def __sigmoid(self,X):\n",
        "        return 1/(1+np.exp(-X))\n",
        "    \n",
        "    def forwardPropagation(self,X):\n",
        "        X = np.c_[ X, np.ones(X.shape[0]) ] \n",
        "        A = self.__sigmoid(np.matmul(X,self.Wc1))\n",
        "        print(\"First Intermediate Layer:\")\n",
        "        print(A)\n",
        "        A = np.c_[ A, np.ones(A.shape[0]) ]  \n",
        "        yhat = self.__sigmoid(np.matmul(A,self.Wc2.T))\n",
        "        return yhat"
      ],
      "execution_count": 7,
      "outputs": []
    },
    {
      "cell_type": "code",
      "metadata": {
        "colab": {
          "base_uri": "https://localhost:8080/"
        },
        "id": "fSAxxH_HTaI4",
        "outputId": "e0fa8c85-f38c-462d-f1ef-fe1a67b5dae2"
      },
      "source": [
        "# 5 observaciones, 2 features\n",
        "X = np.array([\n",
        "      [0.1,-0.4],\n",
        "      [1,2],\n",
        "      [4,8],\n",
        "      [6,7],\n",
        "      [8,9]\n",
        "])\n",
        "\n",
        "red2 = RN2()\n",
        "y2 = red2.forwardPropagation(X)"
      ],
      "execution_count": 9,
      "outputs": [
        {
          "output_type": "stream",
          "name": "stdout",
          "text": [
            "First Intermediate Layer:\n",
            "[[1.22939862e-03 9.47846437e-01]\n",
            " [9.11051194e-04 8.80797078e-01]\n",
            " [1.79862100e-02 9.93307149e-01]\n",
            " [9.99664650e-01 1.00000000e+00]\n",
            " [9.99999168e-01 1.00000000e+00]]\n"
          ]
        }
      ]
    },
    {
      "cell_type": "markdown",
      "metadata": {
        "id": "55MBJafoTuN8"
      },
      "source": [
        "### **Tercera Red**"
      ]
    },
    {
      "cell_type": "code",
      "metadata": {
        "id": "PNE0qsDGTytj"
      },
      "source": [
        "class RN3:\n",
        "    def __init__(self):\n",
        "        self.Wc1 = np.array([\n",
        "            [0.8, 0.4, 0.3],\n",
        "            [0.2, 0.9, 0.5]\n",
        "        ])\n",
        "        self. Wc2  = np.array([0.3,0.5,0.9])\n",
        "    \n",
        "    def __sigmoid(self,X):\n",
        "        return 1/(1+np.exp(-X))\n",
        "    \n",
        "    def forwardPropagation(self,X):\n",
        "        A = self.__sigmoid(np.matmul(X,self.Wc1))\n",
        "        print(\"First Intermediate Layer:\")\n",
        "        print(A)\n",
        "        yhat = self.__sigmoid(np.matmul(A,self.Wc2))\n",
        "        return yhat\n"
      ],
      "execution_count": 10,
      "outputs": []
    },
    {
      "cell_type": "code",
      "metadata": {
        "colab": {
          "base_uri": "https://localhost:8080/"
        },
        "id": "jJ74dij7T8_W",
        "outputId": "780c8204-4e58-4e2d-a3ad-2cf0ffaa0803"
      },
      "source": [
        "# 4 observaciones, 2 variables\n",
        "X = np.array([\n",
        "      [1,1],\n",
        "      [1,2],\n",
        "      [4,5],\n",
        "      [6,7],\n",
        "      [8,9]\n",
        "])\n",
        "\n",
        "red3 = RN3()\n",
        "y3= red3.forwardPropagation(X)"
      ],
      "execution_count": 11,
      "outputs": [
        {
          "output_type": "stream",
          "name": "stdout",
          "text": [
            "First Intermediate Layer:\n",
            "[[0.73105858 0.78583498 0.68997448]\n",
            " [0.76852478 0.90024951 0.78583498]\n",
            " [0.98522597 0.99776215 0.97587298]\n",
            " [0.99797468 0.99983344 0.9950332 ]\n",
            " [0.99972542 0.99998763 0.99899323]]\n"
          ]
        }
      ]
    },
    {
      "cell_type": "markdown",
      "metadata": {
        "id": "wsetsRTfUNNn"
      },
      "source": [
        "### **Conclusiones**"
      ]
    },
    {
      "cell_type": "markdown",
      "metadata": {
        "id": "qw4kws6LULUt"
      },
      "source": [
        "* En la primera red existen **3** parámetros entrenables, excluyendo el bias.\n",
        "* En la segunda red hay **3** parámetros entrenables, los dos pesos y el bias.\n",
        "* En la tercera red hay **12** parámetros entrenables, excluyendo el bias."
      ]
    },
    {
      "cell_type": "code",
      "metadata": {
        "id": "9zWfpUTzVDNg"
      },
      "source": [
        ""
      ],
      "execution_count": null,
      "outputs": []
    }
  ]
}